{
 "cells": [
  {
   "cell_type": "code",
   "execution_count": 4,
   "metadata": {},
   "outputs": [],
   "source": [
    "import numpy as np\n",
    "import pandas as pd\n",
    "import nltk\n",
    "import matplotlib.pyplot as plt\n",
    "\n",
    "from nltk.sentiment.vader import SentimentIntensityAnalyzer\n",
    "from langdetect import detect\n",
    "from translate import Translator\n",
    "\n",
    "import os \n",
    "import tweepy as tw \n",
    "import datetime\n",
    "import configparser as cp\n",
    "\n",
    "import requests\n",
    "import urllib.parse"
   ]
  },
  {
   "cell_type": "markdown",
   "metadata": {},
   "source": [
    "# keys to extract tweets"
   ]
  },
  {
   "cell_type": "code",
   "execution_count": 2,
   "metadata": {},
   "outputs": [],
   "source": [
    "config = cp.ConfigParser()\n",
    "config.read('twitter_values.ini')\n",
    "\n",
    "cons_key = config['twitter.com']['consumer_key']\n",
    "cons_secret_key = config['twitter.com']['consumer_secret_key']\n",
    "access_token = config['twitter.com']['access_token']\n",
    "access_token_secret = config['twitter.com']['access_token_secret']\n"
   ]
  },
  {
   "cell_type": "markdown",
   "metadata": {},
   "source": [
    "# collecting tweets of particular country"
   ]
  },
  {
   "cell_type": "code",
   "execution_count": 3,
   "metadata": {},
   "outputs": [],
   "source": [
    "'''extacts tweets using twitter api and converts the text to english if not and return the dataframe'''\n",
    "\n",
    "\n",
    "\n",
    "def extracting_tweets_from_tweeter(cons_key, cons_secret_key, access_token, access_token_secret, hashtags = 'covid', date_since, date_until):\n",
    "    \n",
    "    auth = tw.OAuthHandler(cons_key, cons_secret_key)\n",
    "    auth.set_access_token(access_token, access_token_secret)\n",
    "    api = tw.API(auth, wait_on_rate_limit=True)\n",
    "\n",
    "    search_words = hashtags\n",
    "    new_search = search_words + \"-filter:retweets\" \n",
    "    \n",
    "    tweets = tw.Cursor(api.search, q = new_search, since = date_since, until = date_until)\n",
    "    user_locs = [[tweet.text, tweet.user.location] for tweet in tweets]\n",
    "    tweet_text = pd.DataFrame(data = user_locs, columns=['text', 'location'])\n",
    "\n",
    "''' extracting only tweets from \"India\" '''\n",
    "\n",
    "    tweet_text = tweet_text[tweet_text['place_full_name'].notna()]\n",
    "    tweet_text['place_full_name'] = tweet_text['place_full_name'].map(lambda x: x.lower())\n",
    "    tweet_text.reset_index(drop = True)\n",
    "\n",
    "    tweet_text = tweet_text[tweet_text['place_full_name'].str.contains('india')]\n",
    "      \n",
    "''' converting the non english tweet to english '''\n",
    "        \n",
    "    translator = Translator(to_lang = \"english\")\n",
    "    text = []\n",
    "    for tweet in tweet_text['text']:\n",
    "        if detect(tweet) != 'en':\n",
    "            text.append(translator.translate(tweet))\n",
    "        else:\n",
    "            text.append(tweet)\n",
    "    tweet_text['converted_text'] = text\n",
    "    \n",
    "    return tweet_text\n",
    "    "
   ]
  },
  {
   "cell_type": "code",
   "execution_count": 5,
   "metadata": {},
   "outputs": [],
   "source": [
    "# date_until = datetime.date.today()\n",
    "# data = extracting_tweets_from_tweeter(cons_key, cons_secret_key, access_token, access_token_secret, date_until)"
   ]
  },
  {
   "cell_type": "code",
   "execution_count": 59,
   "metadata": {},
   "outputs": [
    {
     "name": "stdout",
     "output_type": "stream",
     "text": [
      "2020-08-26 2020-08-18 \n",
      "\n",
      "2020-08-19 2020-08-20\n",
      "2020-08-20 2020-08-21\n",
      "2020-08-21 2020-08-22\n",
      "2020-08-22 2020-08-23\n",
      "2020-08-23 2020-08-24\n",
      "2020-08-24 2020-08-25\n",
      "2020-08-25 2020-08-26\n"
     ]
    }
   ],
   "source": [
    "# date_until = datetime.date.today()  # aaj ki date\n",
    "\n",
    "# date_since = date_until - datetime.timedelta(days = 8)\n",
    "\n",
    "# # print(date_until, date_since, '\\n')\n",
    "# for i in range(1,8):\n",
    "#     date_since = date_since + datetime.timedelta(days = 1)\n",
    "#     date_until = date_since + datetime.timedelta(days = 1)\n",
    "# #     print(date_since, date_until)\n",
    "\n"
   ]
  },
  {
   "cell_type": "markdown",
   "metadata": {},
   "source": [
    "# Getting the longitude and latitude of the given location"
   ]
  },
  {
   "cell_type": "code",
   "execution_count": null,
   "metadata": {},
   "outputs": [],
   "source": [
    "def getting_long_lat(data):\n",
    "\n",
    "    lat = []; long = []\n",
    "\n",
    "    def getting_lat_long(address):\n",
    "        url = 'https://nominatim.openstreetmap.org/search/' + urllib.parse.quote(address)+'?format=json'\n",
    "        response = requests.get(url).json()\n",
    "        return response\n",
    "\n",
    "    for i in data.location:\n",
    "        res = getting_lat_long(i)\n",
    "        try:\n",
    "            lat.append(res[0]['lat'])\n",
    "            long.append(res[0]['lon'])\n",
    "        except:\n",
    "            lat.append(np.nan)\n",
    "            long.append(np.nan)\n",
    "\n",
    "    data['lattitude'] = lat\n",
    "    data['longitude'] = long\n",
    "    \n",
    "    return data\n"
   ]
  },
  {
   "cell_type": "markdown",
   "metadata": {},
   "source": [
    "# Getting the states of the given tweets"
   ]
  },
  {
   "cell_type": "code",
   "execution_count": 18,
   "metadata": {},
   "outputs": [
    {
     "data": {
      "text/html": [
       "<div>\n",
       "<style scoped>\n",
       "    .dataframe tbody tr th:only-of-type {\n",
       "        vertical-align: middle;\n",
       "    }\n",
       "\n",
       "    .dataframe tbody tr th {\n",
       "        vertical-align: top;\n",
       "    }\n",
       "\n",
       "    .dataframe thead th {\n",
       "        text-align: right;\n",
       "    }\n",
       "</style>\n",
       "<table border=\"1\" class=\"dataframe\">\n",
       "  <thead>\n",
       "    <tr style=\"text-align: right;\">\n",
       "      <th></th>\n",
       "      <th>text</th>\n",
       "      <th>latitude</th>\n",
       "      <th>longitude</th>\n",
       "      <th>state</th>\n",
       "    </tr>\n",
       "  </thead>\n",
       "  <tbody>\n",
       "    <tr>\n",
       "      <th>0</th>\n",
       "      <td>chandigarh,india</td>\n",
       "      <td>12.979120</td>\n",
       "      <td>77.591300</td>\n",
       "      <td>Karnataka</td>\n",
       "    </tr>\n",
       "    <tr>\n",
       "      <th>1</th>\n",
       "      <td>mumbai,india</td>\n",
       "      <td>25.335649</td>\n",
       "      <td>83.007629</td>\n",
       "      <td>Uttar Pradesh</td>\n",
       "    </tr>\n",
       "    <tr>\n",
       "      <th>2</th>\n",
       "      <td>thane,india</td>\n",
       "      <td>27.130334</td>\n",
       "      <td>80.859666</td>\n",
       "      <td>Uttar Pradesh</td>\n",
       "    </tr>\n",
       "  </tbody>\n",
       "</table>\n",
       "</div>"
      ],
      "text/plain": [
       "               text   latitude  longitude          state\n",
       "0  chandigarh,india  12.979120  77.591300      Karnataka\n",
       "1      mumbai,india  25.335649  83.007629  Uttar Pradesh\n",
       "2       thane,india  27.130334  80.859666  Uttar Pradesh"
      ]
     },
     "execution_count": 18,
     "metadata": {},
     "output_type": "execute_result"
    }
   ],
   "source": [
    "def getting_state(data):\n",
    "    \n",
    "'''to add a column of state in the data set '''\n",
    "\n",
    "    import reverse_geocoder as rg\n",
    "    import pprint\n",
    "\n",
    "    state = []\n",
    "    for i in range(data.shape[0]):\n",
    "        result = rg.search([data['latitude'][i], data['longitude'][i]])\n",
    "        state.append(list(result)[0]['admin1'])\n",
    "    data['state'] = state\n",
    "\n",
    "return data"
   ]
  },
  {
   "cell_type": "markdown",
   "metadata": {},
   "source": [
    "# Extracting the data of a particular state i.e. state entered by the user"
   ]
  },
  {
   "cell_type": "code",
   "execution_count": 102,
   "metadata": {},
   "outputs": [],
   "source": [
    "def extract_state(data):\n",
    "    '''extracting the data of particular state'''\n",
    "\n",
    "    print('the option of states are : ')\n",
    "    print(data['state'].unique())\n",
    "    \n",
    "    while(True):\n",
    "        loc = input('enter the state for which you want to calculate : ')\n",
    "        data = data[data['state'] == loc]\n",
    "        if data.shape[0] != 0:\n",
    "            break\n",
    "        else:\n",
    "            print('enter a valid value and try again.....')\n",
    "        \n",
    "    return data\n",
    "  "
   ]
  },
  {
   "cell_type": "markdown",
   "metadata": {},
   "source": [
    "# Getting Sentiment of the tweets"
   ]
  },
  {
   "cell_type": "code",
   "execution_count": 60,
   "metadata": {},
   "outputs": [],
   "source": [
    "# assigning the sentiment of the tweet \n",
    "\n",
    "def getting_sentiment(data):\n",
    "    tweets = data['text']\n",
    "    sid = SentimentIntensityAnalyzer()\n",
    "    data['scores'] = [sid.polarity_scores(tweet) for tweet in tweets]\n",
    "    \n",
    "    # for storing the sentiment of the tweet\n",
    "\n",
    "    senti = []\n",
    "    for score in data['scores']:\n",
    "    #     print(score)\n",
    "        if score['pos'] > score['neg']:\n",
    "            senti.append(1)\n",
    "        elif score['pos'] < score['neg']:\n",
    "            senti.append(0)\n",
    "        else:\n",
    "            senti.append(np.nan)\n",
    "\n",
    "    data['sentiment'] = senti\n",
    "\n",
    "    # droping the text neural in nature\n",
    "    data.dropna(axis = 0, inplace = True)\n",
    "\n",
    "    return data"
   ]
  },
  {
   "cell_type": "markdown",
   "metadata": {},
   "source": [
    "# Assigning of all functions"
   ]
  },
  {
   "cell_type": "code",
   "execution_count": null,
   "metadata": {},
   "outputs": [],
   "source": [
    "\n",
    "date_until = datetime.date.today()  # getting current date \n",
    "date_since = date_until - datetime.timedelta(days = 8) # getting date of 8 days back\n",
    "\n",
    "output = []\n",
    "date_until = datetime.date.today()\n",
    "\n",
    "for i in range(1,8):\n",
    "    \n",
    "    # increamenting the date after each iteration \n",
    "    date_since = date_since + datetime.timedelta(days = 1)\n",
    "    date_until = date_since + datetime.timedelta(days = 1)\n",
    "    \n",
    "    # extracting the tweets from tweeter of the particular day \n",
    "    data = extracting_tweets_from_tweeter(cons_key, cons_secret_key, access_token, access_token_secret, \n",
    "                                          date_since, date_until)\n",
    "    \n",
    "    # getting latitude and longitude values of the data collected\n",
    "    data = getting_long_lat(data) \n",
    "    \n",
    "    # getting the state on the basis of latitude and longitude\n",
    "    data = getting_state(data)\n",
    "    \n",
    "    # extracting the tweets of the particular state to minimize the load \n",
    "    data = extract_state(data)\n",
    "    \n",
    "    # getting the sentiments of the tweets\n",
    "    data = getting_sentiment(data)\n",
    "    \n",
    "    # getting the values of number of tweets negative or positive\n",
    "    values = data['sentiment'].value_counts()\n",
    "    neg = value[0] # number of negative tweets\n",
    "    pos = value[1] # number of positive tweets\n",
    "    val = [neg, pos]\n",
    "    output.append() # appeding the value in the list \n",
    "out = pd.DataFrame(output, columns = ['number of negative tweets', 'number of positive tweets'])\n",
    "data = data.join(out)  # joining the dataframe into the dataset \n",
    "x = [1, 2, 3, 4, 5, 6, 7] \n",
    "data['day_number'] = x"
   ]
  },
  {
   "cell_type": "code",
   "execution_count": 76,
   "metadata": {},
   "outputs": [
    {
     "data": {
      "text/html": [
       "<div>\n",
       "<style scoped>\n",
       "    .dataframe tbody tr th:only-of-type {\n",
       "        vertical-align: middle;\n",
       "    }\n",
       "\n",
       "    .dataframe tbody tr th {\n",
       "        vertical-align: top;\n",
       "    }\n",
       "\n",
       "    .dataframe thead th {\n",
       "        text-align: right;\n",
       "    }\n",
       "</style>\n",
       "<table border=\"1\" class=\"dataframe\">\n",
       "  <thead>\n",
       "    <tr style=\"text-align: right;\">\n",
       "      <th></th>\n",
       "      <th>day</th>\n",
       "      <th>number of negative tweets</th>\n",
       "      <th>number of positive tweets</th>\n",
       "    </tr>\n",
       "  </thead>\n",
       "  <tbody>\n",
       "    <tr>\n",
       "      <th>0</th>\n",
       "      <td>1</td>\n",
       "      <td>12</td>\n",
       "      <td>32</td>\n",
       "    </tr>\n",
       "    <tr>\n",
       "      <th>1</th>\n",
       "      <td>2</td>\n",
       "      <td>23</td>\n",
       "      <td>4</td>\n",
       "    </tr>\n",
       "    <tr>\n",
       "      <th>2</th>\n",
       "      <td>3</td>\n",
       "      <td>34</td>\n",
       "      <td>67</td>\n",
       "    </tr>\n",
       "    <tr>\n",
       "      <th>3</th>\n",
       "      <td>4</td>\n",
       "      <td>45</td>\n",
       "      <td>89</td>\n",
       "    </tr>\n",
       "    <tr>\n",
       "      <th>4</th>\n",
       "      <td>5</td>\n",
       "      <td>5</td>\n",
       "      <td>23</td>\n",
       "    </tr>\n",
       "    <tr>\n",
       "      <th>5</th>\n",
       "      <td>6</td>\n",
       "      <td>89</td>\n",
       "      <td>12</td>\n",
       "    </tr>\n",
       "    <tr>\n",
       "      <th>6</th>\n",
       "      <td>7</td>\n",
       "      <td>6</td>\n",
       "      <td>34</td>\n",
       "    </tr>\n",
       "  </tbody>\n",
       "</table>\n",
       "</div>"
      ],
      "text/plain": [
       "   day  number of negative tweets  number of positive tweets\n",
       "0    1                         12                         32\n",
       "1    2                         23                          4\n",
       "2    3                         34                         67\n",
       "3    4                         45                         89\n",
       "4    5                          5                         23\n",
       "5    6                         89                         12\n",
       "6    7                          6                         34"
      ]
     },
     "execution_count": 76,
     "metadata": {},
     "output_type": "execute_result"
    }
   ],
   "source": [
    "# x = [1, 2, 3, 4, 5, 6, 7]\n",
    "# y_neg = [12, 23, 34, 45, 5, 89, 6]\n",
    "# y_pos = [32, 4, 67, 89, 23, 12, 34]\n",
    "\n",
    "# data = pd.DataFrame([x, y_neg, y_pos], index=['day', 'number of negative tweets', 'number of positive tweets']).T\n",
    "\n",
    "# data"
   ]
  },
  {
   "cell_type": "code",
   "execution_count": 88,
   "metadata": {},
   "outputs": [
    {
     "data": {
      "text/plain": [
       "Text(0, 0.5, 'Number of Cases')"
      ]
     },
     "execution_count": 88,
     "metadata": {},
     "output_type": "execute_result"
    },
    {
     "data": {
      "image/png": "[encoded data removed]",
      "text/plain": [
       "<Figure size 864x360 with 1 Axes>"
      ]
     },
     "metadata": {
      "needs_background": "light"
     },
     "output_type": "display_data"
    }
   ],
   "source": [
    "# ploting the number of negative and positive tweets graphically\n",
    "\n",
    "plt.figure(figsize=(12, 5))\n",
    "plt.plot(data['day'], data['number of negative tweets'], 'r')\n",
    "plt.plot(data['day'], data['number of positive tweets'], 'b')\n",
    "plt.plot(data['number of negative tweets'] - data['number of positive tweets'], 'g')\n",
    "plt.legend(['Negative Tweets', 'Positive Tweets', 'overall increasse or decrease in number'])\n",
    "plt.xlabel('Cases on Particular Date')\n",
    "plt.ylabel('Number of Cases')"
   ]
  }
 ],
 "metadata": {
  "kernelspec": {
   "display_name": "Python 3",
   "language": "python",
   "name": "python3"
  },
  "language_info": {
   "codemirror_mode": {
    "name": "ipython",
    "version": 3
   },
   "file_extension": ".py",
   "mimetype": "text/x-python",
   "name": "python",
   "nbconvert_exporter": "python",
   "pygments_lexer": "ipython3",
   "version": "3.7.6"
  }
 },
 "nbformat": 4,
 "nbformat_minor": 4
}
